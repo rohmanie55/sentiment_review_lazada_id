{
  "nbformat": 4,
  "nbformat_minor": 0,
  "metadata": {
    "colab": {
      "name": "Submission - Review Lazada.ipynb",
      "provenance": [],
      "collapsed_sections": [],
      "authorship_tag": "ABX9TyOB05mMb8jr4nK1LxSHkdVn",
      "include_colab_link": true
    },
    "kernelspec": {
      "name": "python3",
      "display_name": "Python 3"
    }
  },
  "cells": [
    {
      "cell_type": "markdown",
      "metadata": {
        "id": "view-in-github",
        "colab_type": "text"
      },
      "source": [
        "<a href=\"https://colab.research.google.com/github/rohmanie55/sentiment_review_lazada_id/blob/master/Submission_Review_Lazada.ipynb\" target=\"_parent\"><img src=\"https://colab.research.google.com/assets/colab-badge.svg\" alt=\"Open In Colab\"/></a>"
      ]
    },
    {
      "cell_type": "code",
      "metadata": {
        "id": "ahxad533Y3FY",
        "colab_type": "code",
        "colab": {
          "base_uri": "https://localhost:8080/",
          "height": 289
        },
        "outputId": "82602c50-f81c-4e1b-ef34-95ddbd9b7c5f"
      },
      "source": [
        "import zipfile,os\n",
        "\n",
        "!wget --no-check-certificate \\\n",
        "    https://github.com/rohmanie55/sentiment_review_lazada_id/raw/master/dataset/Review.zip \\\n",
        "    -O /tmp/Review.zip\n",
        "\n",
        "zip = \"/tmp/Review.zip\"\n",
        "zip_ref = zipfile.ZipFile(zip, 'r')\n",
        "zip_ref.extractall('/content')\n",
        "zip_ref.close()"
      ],
      "execution_count": 206,
      "outputs": [
        {
          "output_type": "stream",
          "text": [
            "--2020-08-11 02:42:55--  https://github.com/rohmanie55/sentiment_review_lazada_id/raw/master/dataset/Review.zip\n",
            "Resolving github.com (github.com)... 140.82.113.4\n",
            "Connecting to github.com (github.com)|140.82.113.4|:443... connected.\n",
            "HTTP request sent, awaiting response... 302 Found\n",
            "Location: https://raw.githubusercontent.com/rohmanie55/sentiment_review_lazada_id/master/dataset/Review.zip [following]\n",
            "--2020-08-11 02:42:56--  https://raw.githubusercontent.com/rohmanie55/sentiment_review_lazada_id/master/dataset/Review.zip\n",
            "Resolving raw.githubusercontent.com (raw.githubusercontent.com)... 151.101.0.133, 151.101.64.133, 151.101.128.133, ...\n",
            "Connecting to raw.githubusercontent.com (raw.githubusercontent.com)|151.101.0.133|:443... connected.\n",
            "HTTP request sent, awaiting response... 200 OK\n",
            "Length: 6253210 (6.0M) [application/zip]\n",
            "Saving to: ‘/tmp/Review.zip’\n",
            "\n",
            "\r/tmp/Review.zip       0%[                    ]       0  --.-KB/s               \r/tmp/Review.zip      55%[==========>         ]   3.29M  16.4MB/s               \r/tmp/Review.zip     100%[===================>]   5.96M  20.7MB/s    in 0.3s    \n",
            "\n",
            "2020-08-11 02:42:56 (20.7 MB/s) - ‘/tmp/Review.zip’ saved [6253210/6253210]\n",
            "\n"
          ],
          "name": "stdout"
        }
      ]
    },
    {
      "cell_type": "code",
      "metadata": {
        "id": "xvjhGzSzdJo5",
        "colab_type": "code",
        "colab": {}
      },
      "source": [
        "import pandas as pd\n",
        "#masukan dataset ke dataframe\n",
        "df = pd.read_csv('20191002-reviews.csv')\n",
        "\n",
        "#buang text kosong\n",
        "df.dropna(inplace=True)\n",
        "\n",
        "#masukan dataset ke dataframe\n",
        "df = pd.read_csv('20191002-reviews.csv')\n",
        "#buang column yang tidak digunakan\n",
        "df = df.drop(columns=['itemId', 'category', 'name', 'originalRating',\n",
        "                      'reviewTitle', 'likeCount', 'upVotes', 'downVotes',\n",
        "                      'helpful', 'relevanceScore', 'boughtDate', 'clientType', 'retrievedDate'])\n",
        "#buang data dengan komentar kosong\n",
        "df.dropna(inplace=True)\n",
        "#ambil 50000 data\n",
        "df = df.loc[0:50000]\n",
        "#pilih 1000 rewiew dari masing masing rating\n",
        "buruk = df[df.rating.isin([1, 2])].iloc[0:1000]\n",
        "netral= df[df.rating.isin([3])].iloc[0:1000]\n",
        "bagus = df[df.rating.isin([4, 5])].iloc[0:1000]\n",
        "#hapus rating lama\n",
        "buruk.drop(columns='rating')\n",
        "netral.drop(columns='rating')\n",
        "bagus.drop(columns='rating')\n",
        "#tambahkan rating baru\n",
        "buruk['rating']='buruk'\n",
        "netral['rating']='netral'\n",
        "bagus['rating']='bagus'\n",
        "#gabungkan review\n",
        "df_review = pd.concat([buruk, netral, bagus], ignore_index=True, sort=False)\n",
        "\n",
        "rating = pd.get_dummies(df_review.rating)\n",
        "df_baru = pd.concat([df_review, rating], axis=1)\n",
        "df_baru = df_baru.drop(columns='rating')\n",
        "\n",
        "review = df_baru['reviewContent'].values\n",
        "rating = df_baru[['buruk', 'netral', 'bagus']].values"
      ],
      "execution_count": 207,
      "outputs": []
    },
    {
      "cell_type": "code",
      "metadata": {
        "id": "P-6AeKLFj6j2",
        "colab_type": "code",
        "colab": {}
      },
      "source": [
        "from sklearn.model_selection import train_test_split\n",
        "from tensorflow.keras.preprocessing.text import Tokenizer\n",
        "from tensorflow.keras.preprocessing.sequence import pad_sequences\n",
        "\n",
        "review_latih, review_test, label_latih, label_test = train_test_split(review, rating, test_size=0.2, random_state=42)\n",
        "\n",
        "NB_WORDS = 8000\n",
        "MAX_LEN = 100\n",
        "EMBEDDING_DIM = 16\n",
        "\n",
        "tokenizer = Tokenizer(num_words=NB_WORDS , filters='!\"#$%&()*+,-./:;<=>?@[\\]^_`{|}~', oov_token=\"<OOV>\", lower=True, char_level=False)\n",
        "tokenizer.fit_on_texts(review_latih) \n",
        "\n",
        "word_index = tokenizer.word_index\n",
        "\n",
        "sekuens_latih= tokenizer.texts_to_sequences(review_latih)\n",
        "sekuens_test = tokenizer.texts_to_sequences(review_test)\n",
        "\n",
        "padded_latih= pad_sequences(sekuens_latih, maxlen=MAX_LEN) \n",
        "padded_test = pad_sequences(sekuens_test, maxlen=MAX_LEN)"
      ],
      "execution_count": 209,
      "outputs": []
    },
    {
      "cell_type": "code",
      "metadata": {
        "id": "NFdE5Wdwl76T",
        "colab_type": "code",
        "colab": {
          "base_uri": "https://localhost:8080/",
          "height": 391
        },
        "outputId": "21707c42-8e8d-4d02-fefe-63dc45d2eba8"
      },
      "source": [
        "import tensorflow as tf\n",
        "from tensorflow.keras import regularizers\n",
        "\n",
        "model = tf.keras.Sequential([\n",
        "    tf.keras.layers.Embedding(NB_WORDS , EMBEDDING_DIM, input_length=MAX_LEN),\n",
        "    tf.keras.layers.Bidirectional(tf.keras.layers.LSTM(64, recurrent_dropout=0.1)),\n",
        "    tf.keras.layers.Dropout(0.2),\n",
        "    tf.keras.layers.Dense(64, kernel_regularizer=regularizers.l2(0.001), activation='relu'),\n",
        "    tf.keras.layers.Dense(32, activation='relu'),\n",
        "    tf.keras.layers.Dropout(0.3),\n",
        "    tf.keras.layers.Dense(3, activation='softmax')\n",
        "])\n",
        "model.compile(loss='categorical_crossentropy',optimizer='adam', metrics=['accuracy'])\n",
        "\n",
        "model.summary()"
      ],
      "execution_count": 210,
      "outputs": [
        {
          "output_type": "stream",
          "text": [
            "Model: \"sequential_54\"\n",
            "_________________________________________________________________\n",
            "Layer (type)                 Output Shape              Param #   \n",
            "=================================================================\n",
            "embedding_54 (Embedding)     (None, 100, 16)           128000    \n",
            "_________________________________________________________________\n",
            "bidirectional_54 (Bidirectio (None, 128)               41472     \n",
            "_________________________________________________________________\n",
            "dropout_106 (Dropout)        (None, 128)               0         \n",
            "_________________________________________________________________\n",
            "dense_135 (Dense)            (None, 64)                8256      \n",
            "_________________________________________________________________\n",
            "dense_136 (Dense)            (None, 32)                2080      \n",
            "_________________________________________________________________\n",
            "dropout_107 (Dropout)        (None, 32)                0         \n",
            "_________________________________________________________________\n",
            "dense_137 (Dense)            (None, 3)                 99        \n",
            "=================================================================\n",
            "Total params: 179,907\n",
            "Trainable params: 179,907\n",
            "Non-trainable params: 0\n",
            "_________________________________________________________________\n"
          ],
          "name": "stdout"
        }
      ]
    },
    {
      "cell_type": "code",
      "metadata": {
        "id": "fXj31CkrmCPM",
        "colab_type": "code",
        "colab": {
          "base_uri": "https://localhost:8080/",
          "height": 961
        },
        "outputId": "93402995-efb7-48a6-a07a-05b95ee31f55"
      },
      "source": [
        "import matplotlib.pyplot as plt\n",
        "\n",
        "num_epochs = 20\n",
        "batch_size = 128\n",
        "\n",
        "history = model.fit(padded_latih, label_latih, epochs=num_epochs, batch_size=batch_size, \n",
        "                    validation_data=(padded_test, label_test), verbose=2)\n",
        "\n",
        "acc = history.history['accuracy']\n",
        "val_acc = history.history['val_accuracy']\n",
        "\n",
        "loss=history.history['loss']\n",
        "val_loss=history.history['val_loss']\n",
        "epochs_range = range(num_epochs)\n",
        "\n",
        "plt.figure(figsize=(15, 4))\n",
        "plt.subplot(1, 2, 1)\n",
        "plt.plot(epochs_range, acc, label='Training Accuracy')\n",
        "plt.plot(epochs_range, val_acc, label='Validation Accuracy')\n",
        "plt.legend(loc='lower right')\n",
        "plt.title('Training and Validation Accuracy')\n",
        "\n",
        "plt.subplot(1, 2, 2)\n",
        "plt.plot(epochs_range, loss, label='Training Loss')\n",
        "plt.plot(epochs_range, val_loss, label='Validation Loss')\n",
        "plt.legend(loc='upper right')\n",
        "plt.title('Training and Validation Loss')\n",
        "plt.show()"
      ],
      "execution_count": 200,
      "outputs": [
        {
          "output_type": "stream",
          "text": [
            "Epoch 1/20\n",
            "19/19 - 7s - loss: 1.1714 - accuracy: 0.3596 - val_loss: 1.1590 - val_accuracy: 0.3683\n",
            "Epoch 2/20\n",
            "19/19 - 6s - loss: 1.1351 - accuracy: 0.4212 - val_loss: 1.1162 - val_accuracy: 0.4417\n",
            "Epoch 3/20\n",
            "19/19 - 6s - loss: 1.0683 - accuracy: 0.4771 - val_loss: 1.0397 - val_accuracy: 0.5067\n",
            "Epoch 4/20\n",
            "19/19 - 6s - loss: 0.9238 - accuracy: 0.5721 - val_loss: 0.9498 - val_accuracy: 0.5700\n",
            "Epoch 5/20\n",
            "19/19 - 6s - loss: 0.7926 - accuracy: 0.6500 - val_loss: 0.9559 - val_accuracy: 0.5767\n",
            "Epoch 6/20\n",
            "19/19 - 6s - loss: 0.6997 - accuracy: 0.7083 - val_loss: 1.0019 - val_accuracy: 0.5733\n",
            "Epoch 7/20\n",
            "19/19 - 6s - loss: 0.5912 - accuracy: 0.7708 - val_loss: 1.0240 - val_accuracy: 0.5967\n",
            "Epoch 8/20\n",
            "19/19 - 6s - loss: 0.5168 - accuracy: 0.8033 - val_loss: 1.0970 - val_accuracy: 0.5633\n",
            "Epoch 9/20\n",
            "19/19 - 6s - loss: 0.4807 - accuracy: 0.8375 - val_loss: 1.1917 - val_accuracy: 0.5633\n",
            "Epoch 10/20\n",
            "19/19 - 6s - loss: 0.4218 - accuracy: 0.8592 - val_loss: 1.2886 - val_accuracy: 0.5567\n",
            "Epoch 11/20\n",
            "19/19 - 6s - loss: 0.3521 - accuracy: 0.8933 - val_loss: 1.4635 - val_accuracy: 0.5483\n",
            "Epoch 12/20\n",
            "19/19 - 6s - loss: 0.3184 - accuracy: 0.9058 - val_loss: 1.5535 - val_accuracy: 0.5650\n",
            "Epoch 13/20\n",
            "19/19 - 6s - loss: 0.2758 - accuracy: 0.9262 - val_loss: 1.6747 - val_accuracy: 0.5550\n",
            "Epoch 14/20\n",
            "19/19 - 6s - loss: 0.2610 - accuracy: 0.9321 - val_loss: 1.7724 - val_accuracy: 0.5533\n",
            "Epoch 15/20\n",
            "19/19 - 6s - loss: 0.2643 - accuracy: 0.9296 - val_loss: 1.8211 - val_accuracy: 0.5617\n",
            "Epoch 16/20\n",
            "19/19 - 6s - loss: 0.2300 - accuracy: 0.9417 - val_loss: 1.8692 - val_accuracy: 0.5483\n",
            "Epoch 17/20\n",
            "19/19 - 6s - loss: 0.2185 - accuracy: 0.9500 - val_loss: 1.8803 - val_accuracy: 0.5567\n",
            "Epoch 18/20\n",
            "19/19 - 6s - loss: 0.2144 - accuracy: 0.9475 - val_loss: 2.0198 - val_accuracy: 0.5617\n",
            "Epoch 19/20\n",
            "19/19 - 6s - loss: 0.1994 - accuracy: 0.9496 - val_loss: 2.0316 - val_accuracy: 0.5683\n",
            "Epoch 20/20\n",
            "19/19 - 6s - loss: 0.2036 - accuracy: 0.9508 - val_loss: 2.0064 - val_accuracy: 0.5650\n"
          ],
          "name": "stdout"
        },
        {
          "output_type": "display_data",
          "data": {
            "image/png": "[encoded data removed]",
            "text/plain": [
              "<Figure size 1080x288 with 2 Axes>"
            ]
          },
          "metadata": {
            "tags": [],
            "needs_background": "light"
          }
        }
      ]
    },
    {
      "cell_type": "code",
      "metadata": {
        "id": "3tmVHlqqDOCq",
        "colab_type": "code",
        "colab": {
          "base_uri": "https://localhost:8080/",
          "height": 34
        },
        "outputId": "148cfe1a-97e7-4667-8301-2a96f3a2bfea"
      },
      "source": [
        "import numpy as np\n",
        "\n",
        "labels = ['buruk', 'netral', 'bagus']\n",
        "sentence = [\"lumayan lah sesuai harga\"]\n",
        "sequences = tokenizer.texts_to_sequences(sentence)\n",
        "padded = pad_sequences(sequences, maxlen=MAX_LEN)\n",
        "predict= model.predict(padded)\n",
        "print(labels[np.argmax(predict)])"
      ],
      "execution_count": 202,
      "outputs": [
        {
          "output_type": "stream",
          "text": [
            "netral\n"
          ],
          "name": "stdout"
        }
      ]
    }
  ]
}